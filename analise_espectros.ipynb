{
 "cells": [
  {
   "cell_type": "markdown",
   "id": "72c5ecb5",
   "metadata": {},
   "source": [
    "## Simulação e Análise de Espectros de Energia Nuclear com Detecção Automática e Ajuste de Picos Gaussianos"
   ]
  },
  {
   "cell_type": "markdown",
   "id": "d0f39894",
   "metadata": {},
   "source": [
    "### Parte 1: Gerador de dados ruidosos"
   ]
  },
  {
   "cell_type": "code",
   "execution_count": null,
   "id": "13725533",
   "metadata": {},
   "outputs": [],
   "source": [
    "# bibliotecas\n",
    "import numpy as np\n",
    "import pandas as pd\n",
    "import matplotlib.pyplot as plt"
   ]
  },
  {
   "cell_type": "code",
   "execution_count": null,
   "id": "7cbf6771",
   "metadata": {},
   "outputs": [],
   "source": [
    "# Parâmetros da simulação:\n",
    "\n",
    "# definimos a resolução do detector, como sera dividido o espectro\n",
    "N_CANAIS = 1000 #(cada bin relacionado com a energia)\n",
    "\n",
    "# eixo de energia (x)\n",
    "EIXO_ENERGIA = np.linspace(0, 1000, N_CANAIS) #(canal 0 corresponde a energia 0,\n",
    "#canal 1 corresponde a energia 1, etc...)\n",
    "\n",
    "# gerando números aleatórios:\n",
    "RANDOM_SEED = 42\n",
    "np.random.seed(RANDOM_SEED)\n",
    "\n",
    "# o ruído de fundo se assemelha a um decaimento exponencial A*e^(-cteE)\n",
    "# parâmetros do fundo:\n",
    "FUNDO_AMP = 200\n",
    "FUNDO_DECAI = 0.05\n",
    "\n",
    "# picos:\n",
    "PARAMETROS_PICOS = [\n",
    "    {'amp' : 600, 'centro': 250, 'sigma':10},\n",
    "    {'amp' : 400, 'centro': 600, 'sigma':15},\n",
    "    {'amp' : 250, 'centro': 750, 'sigma':8}\n",
    "\n",
    "]\n"
   ]
  }
 ],
 "metadata": {
  "kernelspec": {
   "display_name": "Python 3",
   "language": "python",
   "name": "python3"
  },
  "language_info": {
   "codemirror_mode": {
    "name": "ipython",
    "version": 3
   },
   "file_extension": ".py",
   "mimetype": "text/x-python",
   "name": "python",
   "nbconvert_exporter": "python",
   "pygments_lexer": "ipython3",
   "version": "3.11.4"
  }
 },
 "nbformat": 4,
 "nbformat_minor": 5
}
